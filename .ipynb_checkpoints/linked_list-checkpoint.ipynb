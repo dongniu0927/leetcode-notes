{
 "cells": [
  {
   "cell_type": "markdown",
   "metadata": {},
   "source": [
    "# 链表"
   ]
  },
  {
   "cell_type": "markdown",
   "metadata": {},
   "source": [
    "## 234. 回文链表\n",
    "\n",
    "https://leetcode-cn.com/problems/palindrome-linked-list/comments/\n"
   ]
  },
  {
   "cell_type": "code",
   "execution_count": 1,
   "metadata": {},
   "outputs": [],
   "source": [
    "# Definition for singly-linked list.\n",
    "# class ListNode:\n",
    "#     def __init__(self, x):\n",
    "#         self.val = x\n",
    "#         self.next = None\n",
    "class Solution:\n",
    "    def reverseLinkedList(self, head):\n",
    "        pre = None\n",
    "        post = head\n",
    "        temp = head.next\n",
    "        while temp:\n",
    "            post.next = pre\n",
    "            pre = post\n",
    "            post = temp\n",
    "            temp = temp.next\n",
    "        post.next = pre\n",
    "        return post\n",
    "    \n",
    "    def isPalindrome(self, head):\n",
    "        \"\"\"\n",
    "        :type head: ListNode\n",
    "        :rtype: bool\n",
    "        \"\"\"\n",
    "        if not head or not head.next:\n",
    "            return True\n",
    "        # search mid value\n",
    "        slow = fast = head\n",
    "        while fast and fast.next:\n",
    "            slow = slow.next\n",
    "            fast = fast.next.next\n",
    "        # reverse\n",
    "        tail = self.reverseLinkedList(slow)\n",
    "        # compare if the same\n",
    "        while tail:\n",
    "            if tail.val != head.val:\n",
    "                return False\n",
    "            tail = tail.next\n",
    "            head = head.next\n",
    "        return True\n",
    "        "
   ]
  }
 ],
 "metadata": {
  "kernelspec": {
   "display_name": "Python 3",
   "language": "python",
   "name": "python3"
  },
  "language_info": {
   "codemirror_mode": {
    "name": "ipython",
    "version": 3
   },
   "file_extension": ".py",
   "mimetype": "text/x-python",
   "name": "python",
   "nbconvert_exporter": "python",
   "pygments_lexer": "ipython3",
   "version": "3.6.5"
  }
 },
 "nbformat": 4,
 "nbformat_minor": 2
}
